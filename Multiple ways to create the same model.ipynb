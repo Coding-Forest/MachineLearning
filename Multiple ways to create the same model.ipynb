{
  "nbformat": 4,
  "nbformat_minor": 0,
  "metadata": {
    "colab": {
      "name": "Multiple ways to create the same model.ipynb",
      "provenance": [],
      "collapsed_sections": [],
      "toc_visible": true,
      "machine_shape": "hm"
    },
    "kernelspec": {
      "name": "python3",
      "display_name": "Python 3"
    },
    "language_info": {
      "name": "python"
    },
    "accelerator": "TPU"
  },
  "cells": [
    {
      "cell_type": "markdown",
      "metadata": {
        "id": "alFvNvNWKY8R"
      },
      "source": [
        "## Load data"
      ]
    },
    {
      "cell_type": "code",
      "metadata": {
        "id": "KRNu9dkCKONa"
      },
      "source": [
        "import tensorflow as tf\n",
        "\n",
        "mnist = tf.keras.datasets.mnist\n",
        "\n",
        "(X_train, y_train), (X_test, y_test) = mnist.load_data()\n"
      ],
      "execution_count": null,
      "outputs": []
    },
    {
      "cell_type": "code",
      "metadata": {
        "id": "i7MF-Lz0LvO_"
      },
      "source": [
        "# feature scaling (data normalisation)\n",
        "# Prediction accuracy gets higher with scaled images.\n",
        "# Original colour vector range 0 ~ 255  ---> scaled range 0.0 ~ 1.0 \n",
        "X_train, X_test = X_train/255.0, X_test/255.0"
      ],
      "execution_count": null,
      "outputs": []
    },
    {
      "cell_type": "markdown",
      "metadata": {
        "id": "HfRAe2arVGlS"
      },
      "source": [
        "# Multiple ways to create a model "
      ]
    },
    {
      "cell_type": "markdown",
      "metadata": {
        "id": "Sk0HiiKYcYVX"
      },
      "source": [
        "## 1) Using Keras"
      ]
    },
    {
      "cell_type": "code",
      "metadata": {
        "id": "B3Qj5njSMY7K"
      },
      "source": [
        "mlp_model = tf.keras.models.Sequential([\n",
        "                                        tf.keras.layers.Flatten(input_shape=(28, 28)),\n",
        "                                        tf.keras.layers.Dense(128, activation='relu'),\n",
        "                                        tf.keras.layers.Dense(10, activation='softmax')\n",
        "])\n",
        "\n",
        "mlp_model.fit(X_train, y_train, epochs=5)\n",
        "mlp_model.evaluate(X_test, y_test, verbose=1)"
      ],
      "execution_count": null,
      "outputs": []
    },
    {
      "cell_type": "markdown",
      "metadata": {
        "id": "QBFJ5f3_TmGk"
      },
      "source": [
        "## 2) Using functional API"
      ]
    },
    {
      "cell_type": "code",
      "metadata": {
        "colab": {
          "base_uri": "https://localhost:8080/"
        },
        "id": "8aPbwqFISzfy",
        "outputId": "b4a22276-e208-4dc2-d87a-64c53cd26407"
      },
      "source": [
        "# DNN - multi-layer perceptrons\n",
        "inputs = tf.keras.Input(shape=(28,28))\n",
        "x = tf.keras.layers.Flatten()(inputs)\n",
        "x = tf.keras.layers.Dense(128, activation='relu')(x)\n",
        "outputs = tf.keras.layers.Dense(10, activation='softmax')(x)\n",
        "\n",
        "mlp_model = tf.keras.Model(inputs=inputs, outputs=outputs)\n",
        "\n",
        "mlp_model.compile(optimizer='adam',\n",
        "                  loss='sparse_categorical_crossentropy',\n",
        "                  metrics=['accuracy'])\n",
        "\n",
        "mlp_model.fit(X_train, y_train, epochs=5)\n",
        "mlp_model.evaluate(X_test, y_test, verbose=1)"
      ],
      "execution_count": null,
      "outputs": [
        {
          "output_type": "stream",
          "name": "stdout",
          "text": [
            "Epoch 1/5\n",
            "1875/1875 [==============================] - 3s 2ms/step - loss: 0.2637 - accuracy: 0.9234\n",
            "Epoch 2/5\n",
            "1875/1875 [==============================] - 3s 1ms/step - loss: 0.1172 - accuracy: 0.9653\n",
            "Epoch 3/5\n",
            "1875/1875 [==============================] - 3s 1ms/step - loss: 0.0798 - accuracy: 0.9756\n",
            "Epoch 4/5\n",
            "1875/1875 [==============================] - 3s 1ms/step - loss: 0.0602 - accuracy: 0.9816\n",
            "Epoch 5/5\n",
            "1875/1875 [==============================] - 3s 2ms/step - loss: 0.0455 - accuracy: 0.9856\n",
            "313/313 [==============================] - 0s 1ms/step - loss: 0.0772 - accuracy: 0.9771\n"
          ]
        },
        {
          "output_type": "execute_result",
          "data": {
            "text/plain": [
              "[0.07716403901576996, 0.9771000146865845]"
            ]
          },
          "metadata": {},
          "execution_count": 3
        }
      ]
    },
    {
      "cell_type": "markdown",
      "metadata": {
        "id": "E-kSUpWfVBgi"
      },
      "source": [
        "## 3) Using class (best format)\n",
        "- Highest re-usability\n"
      ]
    },
    {
      "cell_type": "code",
      "metadata": {
        "colab": {
          "base_uri": "https://localhost:8080/"
        },
        "id": "TQ5EG-xeVDnh",
        "outputId": "73752eeb-395e-4a02-a633-1a54066ed245"
      },
      "source": [
        "# 재사용성이 가장 높음 - 모델 자체를 배포할 때도 이 방식 사용\n",
        "\n",
        "class MLP_Model(tf.keras.Model):\n",
        "    def __init__(self):\n",
        "        super(MLP_Model, self).__init__()\n",
        "        self.flatten = tf.keras.layers.Flatten()\n",
        "        self.dense = tf.keras.layers.Dense(128, activation='relu')\n",
        "        self.softmax = tf.keras.layers.Dense(10, activation='softmax')\n",
        "\n",
        "    def call(self, inputs):\n",
        "        x = self.flatten(inputs)\n",
        "        x = self.dense(x)\n",
        "        return self.softmax(x)\n",
        "\n",
        "mlp_model = MLP_Model()\n",
        "\n",
        "mlp_model.compile(optimizer='adam',\n",
        "                  loss='sparse_categorical_crossentropy',\n",
        "                  metrics=['accuracy'])\n",
        "\n",
        "mlp_model.fit(X_train, y_train, epochs=5)\n",
        "mlp_model.evaluate(X_test, y_test, verbose=2)"
      ],
      "execution_count": null,
      "outputs": [
        {
          "output_type": "stream",
          "name": "stdout",
          "text": [
            "Epoch 1/5\n",
            "1875/1875 [==============================] - 4s 2ms/step - loss: 0.2585 - accuracy: 0.9266\n",
            "Epoch 2/5\n",
            "1875/1875 [==============================] - 3s 2ms/step - loss: 0.1139 - accuracy: 0.9666\n",
            "Epoch 3/5\n",
            "1875/1875 [==============================] - 3s 2ms/step - loss: 0.0786 - accuracy: 0.9763\n",
            "Epoch 4/5\n",
            "1875/1875 [==============================] - 4s 2ms/step - loss: 0.0583 - accuracy: 0.9820\n",
            "Epoch 5/5\n",
            "1875/1875 [==============================] - 3s 2ms/step - loss: 0.0456 - accuracy: 0.9855\n",
            "313/313 - 0s - loss: 0.0769 - accuracy: 0.9759\n"
          ]
        },
        {
          "output_type": "execute_result",
          "data": {
            "text/plain": [
              "[0.07685790210962296, 0.9758999943733215]"
            ]
          },
          "metadata": {},
          "execution_count": 6
        }
      ]
    },
    {
      "cell_type": "markdown",
      "metadata": {
        "id": "mg8tG63pedp8"
      },
      "source": [
        "## 4) CNN\n"
      ]
    },
    {
      "cell_type": "code",
      "metadata": {
        "colab": {
          "base_uri": "https://localhost:8080/"
        },
        "id": "rzp6JuN9XRVV",
        "outputId": "86f0f8c4-b99c-453f-99c0-09f27d4e5bdc"
      },
      "source": [
        "import tensorflow as tf\n",
        "\n",
        "mnist = tf.keras.datasets.mnist\n",
        "\n",
        "(X_train, y_train), (X_test, y_test) = mnist.load_data()\n",
        "\n",
        "X_train, X_test = X_train/255.0, X_test/255.0\n",
        "\n",
        "# 입력 데이터 수정\n",
        "X_train_4d = X_train.reshape(-1, 28, 28, 1)\n",
        "X_test_4d = X_test.reshape(-1, 28, 28, 1)\n",
        "\n",
        "cnn_model = tf.keras.models.Sequential([\n",
        "            tf.keras.layers.Conv2D(32, (3,3), activation='relu',\n",
        "                                   input_shape=(28,28,1)),\n",
        "            tf.keras.layers.MaxPooling2D((2,2)),                     # MaxPooling merges neurons.\n",
        "            tf.keras.layers.Conv2D(64, (3,3), activation='relu'),    # So increase the neuron quantity the next layer.\n",
        "            tf.keras.layers.MaxPooling2D((2,2)),\n",
        "            tf.keras.layers.Conv2D(64, (3,3), activation='relu'),\n",
        "            tf.keras.layers.Flatten(),\n",
        "            tf.keras.layers.Dense(64, activation='relu'),\n",
        "            tf.keras.layers.Dense(10, activation='softmax')\n",
        "])\n",
        "\n",
        "cnn_model.compile(optimizer='adam',\n",
        "                  loss='sparse_categorical_crossentropy',\n",
        "                  metrics=['accuracy'])\n",
        "\n",
        "cnn_model.fit(X_train_4d, y_train, epochs=5)\n",
        "\n",
        "cnn_model.evaluate(X_test_4d, y_test, verbose=1)"
      ],
      "execution_count": null,
      "outputs": [
        {
          "output_type": "stream",
          "name": "stdout",
          "text": [
            "Epoch 1/5\n",
            "1875/1875 [==============================] - 14s 7ms/step - loss: 0.1360 - accuracy: 0.9581\n",
            "Epoch 2/5\n",
            "1875/1875 [==============================] - 14s 8ms/step - loss: 0.0461 - accuracy: 0.9855\n",
            "Epoch 3/5\n",
            "1875/1875 [==============================] - 14s 8ms/step - loss: 0.0333 - accuracy: 0.9895\n",
            "Epoch 4/5\n",
            "1875/1875 [==============================] - 14s 8ms/step - loss: 0.0261 - accuracy: 0.9917\n",
            "Epoch 5/5\n",
            "1875/1875 [==============================] - 14s 8ms/step - loss: 0.0186 - accuracy: 0.9937\n",
            "313/313 [==============================] - 1s 2ms/step - loss: 0.0321 - accuracy: 0.9909\n"
          ]
        },
        {
          "output_type": "execute_result",
          "data": {
            "text/plain": [
              "[0.03209259733557701, 0.9908999800682068]"
            ]
          },
          "metadata": {},
          "execution_count": 3
        }
      ]
    },
    {
      "cell_type": "markdown",
      "metadata": {
        "id": "rK_JWZzXe8-a"
      },
      "source": [
        "## 5) ResNet"
      ]
    },
    {
      "cell_type": "code",
      "metadata": {
        "colab": {
          "base_uri": "https://localhost:8080/"
        },
        "id": "zn40-dRTeTKm",
        "outputId": "10529f71-9148-4045-e04d-d6021cd7083c"
      },
      "source": [
        "import tensorflow as tf\n",
        "\n",
        "# Load and scale data.\n",
        "mnist = tf.keras.datasets.mnist\n",
        "(X_train, y_train), (X_test, y_test) = mnist.load_data()\n",
        "X_train, X_test = X_train/255.0, X_test/255.0\n",
        "\n",
        "# Change the input data shape. \n",
        "X_train_4d = X_train.reshape(-1, 28, 28, 1)\n",
        "X_test_4d = X_test.reshape(-1, 28, 28, 1)\n",
        "\n",
        "# Further modify the shape for ResNet\n",
        "resized_X_train = tf.image.resize(X_train_4d, [32, 32])\n",
        "resized_X_test = tf.image.resize(X_test_4d, [32, 32])\n",
        "\n",
        "# Create model\n",
        "resnet_model = tf.keras.applications.ResNet50V2(\n",
        "                    input_shape=(32,32,1),\n",
        "                    classes=10,\n",
        "                    weights=None\n",
        ")\n",
        "\n",
        "resnet_model.compile(optimizer='adam',\n",
        "                  loss='sparse_categorical_crossentropy',\n",
        "                  metrics=['accuracy'])\n",
        "\n",
        "resnet_model.fit(resized_X_train, y_train, epochs=5)\n",
        "\n",
        "resnet_model.evaluate(resized_X_test, y_test, verbose=1)\n",
        "\n",
        "# ResNet is deeper than other models created here. So it takes longer."
      ],
      "execution_count": null,
      "outputs": [
        {
          "output_type": "stream",
          "name": "stdout",
          "text": [
            "Epoch 1/5\n",
            "1875/1875 [==============================] - 410s 216ms/step - loss: 0.2244 - accuracy: 0.9387\n",
            "Epoch 2/5\n",
            "1875/1875 [==============================] - 402s 215ms/step - loss: 0.1244 - accuracy: 0.9684\n",
            "Epoch 3/5\n",
            "1875/1875 [==============================] - 421s 224ms/step - loss: 0.0755 - accuracy: 0.9787\n",
            "Epoch 4/5\n",
            "1875/1875 [==============================] - 428s 228ms/step - loss: 0.0866 - accuracy: 0.9780\n",
            "Epoch 5/5\n",
            "1875/1875 [==============================] - 432s 231ms/step - loss: 0.0656 - accuracy: 0.9824\n",
            "313/313 [==============================] - 18s 55ms/step - loss: 0.0261 - accuracy: 0.9922\n"
          ]
        },
        {
          "output_type": "execute_result",
          "data": {
            "text/plain": [
              "[0.02614090032875538, 0.9922000169754028]"
            ]
          },
          "metadata": {},
          "execution_count": 9
        }
      ]
    },
    {
      "cell_type": "markdown",
      "metadata": {
        "id": "bzkhqhpIfKMo"
      },
      "source": [
        "# Running the model"
      ]
    },
    {
      "cell_type": "markdown",
      "metadata": {
        "id": "B9N8dFIaRp3f"
      },
      "source": [
        "## i. Model structure"
      ]
    },
    {
      "cell_type": "code",
      "metadata": {
        "colab": {
          "base_uri": "https://localhost:8080/"
        },
        "id": "QJaI09iEQws1",
        "outputId": "0aa85025-7eb6-4d11-d40a-d520b5085de5"
      },
      "source": [
        "mlp_model.summary()"
      ],
      "execution_count": null,
      "outputs": [
        {
          "output_type": "stream",
          "name": "stdout",
          "text": [
            "Model: \"model\"\n",
            "_________________________________________________________________\n",
            "Layer (type)                 Output Shape              Param #   \n",
            "=================================================================\n",
            "input_1 (InputLayer)         [(None, 28, 28)]          0         \n",
            "_________________________________________________________________\n",
            "flatten (Flatten)            (None, 784)               0         \n",
            "_________________________________________________________________\n",
            "dense (Dense)                (None, 128)               100480    \n",
            "_________________________________________________________________\n",
            "dense_1 (Dense)              (None, 10)                1290      \n",
            "=================================================================\n",
            "Total params: 101,770\n",
            "Trainable params: 101,770\n",
            "Non-trainable params: 0\n",
            "_________________________________________________________________\n"
          ]
        }
      ]
    },
    {
      "cell_type": "markdown",
      "metadata": {
        "id": "dJPU9xiyPonB"
      },
      "source": [
        "## ii. Compiling the model\n",
        "\n",
        "Options for loss fucntion:\n",
        " - Regression: `MSE` (value)\n",
        "   - or... `MAE`, `RMSE` are also available.\n",
        " - Classification: `CrossEntropy` (probability)\n",
        "   - binary classification: `binary_crossentropy`\n",
        "   - multi-classification: `sparse_categorical crossentropy`, `categorical_crossentropy`\n",
        "- One-hot encoded: `categorical_crossentropy`\n",
        "- None one-hot encoded: `sparse_categorical_crossentropy`\n"
      ]
    },
    {
      "cell_type": "code",
      "metadata": {
        "colab": {
          "base_uri": "https://localhost:8080/"
        },
        "id": "Rigezi4mPn4C",
        "outputId": "890b750e-a27f-4c8d-fdde-2b3c94b597d4"
      },
      "source": [
        "y_train = tf.keras.utils.to_categorical(y_train)\n",
        "y_test = tf.keras.utils.to_categorical(y_test)\n",
        "\n",
        "mlp_model.compile(optimizer='adam',\n",
        "                  loss='categorical_crossentropy',\n",
        "                  metrics=['accuracy'])"
      ],
      "execution_count": null,
      "outputs": [
        {
          "output_type": "stream",
          "name": "stdout",
          "text": [
            "Epoch 1/5\n",
            "1875/1875 [==============================] - 3s 2ms/step - loss: 0.0377 - accuracy: 0.9881\n",
            "Epoch 2/5\n",
            "1875/1875 [==============================] - 3s 2ms/step - loss: 0.0282 - accuracy: 0.9913\n",
            "Epoch 3/5\n",
            "1875/1875 [==============================] - 3s 2ms/step - loss: 0.0231 - accuracy: 0.9927\n",
            "Epoch 4/5\n",
            "1875/1875 [==============================] - 3s 1ms/step - loss: 0.0189 - accuracy: 0.9942\n",
            "Epoch 5/5\n",
            "1875/1875 [==============================] - 3s 1ms/step - loss: 0.0160 - accuracy: 0.9949\n",
            "313/313 - 0s - loss: 0.0746 - accuracy: 0.9789\n"
          ]
        },
        {
          "output_type": "execute_result",
          "data": {
            "text/plain": [
              "[0.07457836717367172, 0.9789000153541565]"
            ]
          },
          "metadata": {},
          "execution_count": 4
        }
      ]
    },
    {
      "cell_type": "markdown",
      "metadata": {
        "id": "csjzcdsRSOit"
      },
      "source": [
        "## iii. Train the model"
      ]
    },
    {
      "cell_type": "code",
      "metadata": {
        "colab": {
          "base_uri": "https://localhost:8080/"
        },
        "id": "Bup9qfocSQTv",
        "outputId": "7889441f-a592-452d-dc54-91e124478336"
      },
      "source": [
        "mlp_model.fit(X_train, y_train, epochs=5)"
      ],
      "execution_count": null,
      "outputs": [
        {
          "output_type": "stream",
          "name": "stdout",
          "text": [
            "Epoch 1/5\n",
            "1875/1875 [==============================] - 3s 2ms/step - loss: 0.0129 - accuracy: 0.9963\n",
            "Epoch 2/5\n",
            "1875/1875 [==============================] - 3s 2ms/step - loss: 0.0104 - accuracy: 0.9968\n",
            "Epoch 3/5\n",
            "1875/1875 [==============================] - 3s 2ms/step - loss: 0.0105 - accuracy: 0.9969\n",
            "Epoch 4/5\n",
            "1875/1875 [==============================] - 3s 2ms/step - loss: 0.0083 - accuracy: 0.9975\n",
            "Epoch 5/5\n",
            "1875/1875 [==============================] - 3s 1ms/step - loss: 0.0081 - accuracy: 0.9974\n"
          ]
        },
        {
          "output_type": "execute_result",
          "data": {
            "text/plain": [
              "<keras.callbacks.History at 0x7f576a07d890>"
            ]
          },
          "metadata": {},
          "execution_count": 6
        }
      ]
    },
    {
      "cell_type": "markdown",
      "metadata": {
        "id": "x2s0_nHgSuU-"
      },
      "source": [
        "## iv. Evaluate the model"
      ]
    },
    {
      "cell_type": "code",
      "metadata": {
        "colab": {
          "base_uri": "https://localhost:8080/"
        },
        "id": "ZeRLeBvxSSiF",
        "outputId": "07262601-5415-4fca-b79a-f71485db2595"
      },
      "source": [
        "mlp_model.evaluate(X_test, y_test, verbose=1)"
      ],
      "execution_count": null,
      "outputs": [
        {
          "output_type": "stream",
          "name": "stdout",
          "text": [
            "313/313 [==============================] - 0s 972us/step - loss: 0.0991 - accuracy: 0.9778\n"
          ]
        },
        {
          "output_type": "execute_result",
          "data": {
            "text/plain": [
              "[0.0990874171257019, 0.9778000116348267]"
            ]
          },
          "metadata": {},
          "execution_count": 7
        }
      ]
    },
    {
      "cell_type": "markdown",
      "metadata": {
        "id": "roaqCfZYd6O4"
      },
      "source": [
        "## 6) Create a transfer-learning model \n",
        "- Import from *Mobile TensorFlow Hub*.\n",
        "   - https://tfhub.dev/\n",
        "- Convert to Tensorflow Light model (ext .tflite)\n",
        "\n",
        "<br/>\n",
        "\n",
        "Process: \n",
        "\n",
        "1) Create a converter:    \n",
        "\n",
        "- `tensorflow.lite.TFLiteConverter.from_keras_model(model_name)`  \n",
        "\n",
        "\n",
        "2) Write it to a file.   \n",
        "\n",
        " - `with open('/content/here/MyDrive/MLP_model/keras_model.tflite', 'wb') as f:`    \n",
        "- `f.write(tflite_model)`\n",
        "    -extension: `.tflite`\n",
        "        \n",
        "            model = tf.keras.Sequential([\n",
        "            tensorflow_hun.KerasLayer(url, input_shape=(입력 구조), trainable=False),\n",
        "            tf.keras.layers.Dense(출력의 개수)\n",
        "        ])\n",
        "\n",
        "\n"
      ]
    },
    {
      "cell_type": "markdown",
      "metadata": {
        "id": "XURGP3wcjESw"
      },
      "source": [
        "### Convert the above models into a TensorFlow Lite model "
      ]
    },
    {
      "cell_type": "code",
      "metadata": {
        "colab": {
          "base_uri": "https://localhost:8080/"
        },
        "id": "rIfn2pwljdwf",
        "outputId": "1a264369-3fc9-4108-af41-67305b6f9c92"
      },
      "source": [
        "from google.colab import drive\n",
        "drive.mount('here')"
      ],
      "execution_count": null,
      "outputs": [
        {
          "output_type": "stream",
          "name": "stdout",
          "text": [
            "Mounted at here\n"
          ]
        }
      ]
    },
    {
      "cell_type": "code",
      "metadata": {
        "colab": {
          "base_uri": "https://localhost:8080/"
        },
        "id": "J7x4GB6QeEJY",
        "outputId": "9519fc44-fe42-475d-ab78-cc5a431ff9f4"
      },
      "source": [
        "converter = tf.lite.TFLiteConverter.from_keras_model(mlp_model)\n",
        "tflite_model = converter.convert()\n",
        "\n",
        "with open('/content/here/MyDrive/MLP_model/keras_model.tflite', 'wb') as f:\n",
        "    f.write(tflite_model)"
      ],
      "execution_count": null,
      "outputs": [
        {
          "output_type": "stream",
          "name": "stdout",
          "text": [
            "INFO:tensorflow:Assets written to: /tmp/tmpww6fw5n4/assets\n"
          ]
        },
        {
          "output_type": "stream",
          "name": "stderr",
          "text": [
            "INFO:tensorflow:Assets written to: /tmp/tmpww6fw5n4/assets\n"
          ]
        }
      ]
    },
    {
      "cell_type": "markdown",
      "metadata": {
        "id": "5V18tknFU2jq"
      },
      "source": [
        "# Error Notes\n",
        "\n",
        "        ValueError: Shape mismatch: The shape of labels (received (320,)) \n",
        "        should equal the shape of logits \n",
        "        except for the last dimension (received (32, 10)).\n",
        "\n",
        "- When you are running the same model built with different methods multiple times, be sure to reset runtime to clear memory. \n",
        "\n"
      ]
    }
  ]
}